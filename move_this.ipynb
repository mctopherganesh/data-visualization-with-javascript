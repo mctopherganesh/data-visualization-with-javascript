{
 "cells": [
  {
   "cell_type": "markdown",
   "metadata": {},
   "source": [
    "<!---dang i feel like rapping right now.\n",
    "\n",
    "do you ever feel like that?-->\n",
    "\n",
    "I feel like writing so many things but I want to talk about this first.\n",
    "\n",
    "I have so many resources stock piled in just my twitter messages to myself alone that there is something there.\n",
    "\n",
    "So I read something kind of reassuring the other day. It said if you don't really know what to build, just copy stuff.\n",
    "\n",
    "That sounds like pretty good advice and also a great argument against building my own things.\n",
    "\n",
    "I guess one tends to mess around with what one is familiar with or comfortable doing.\n",
    "\n",
    "Sometimes exploring into the unknown can be a little scary."
   ]
  },
  {
   "cell_type": "markdown",
   "metadata": {},
   "source": [
    "Tonight I worked on some really cool things and had some pretty cool ideas.\n",
    "\n",
    "I kept working through this Data Vis with JS book I have and I'm starting to learn something along with a little JS.\n",
    "\n",
    "JS is super confusing. but not hard to figure out. I'm finding bugs slowly (after putting them in there)\n",
    "\n",
    "However, I probably shouldn't follow this book linearly. That is, in order.\n",
    "\n",
    "I think that might be a huge problem with people trying to \"understand\" how to \"understand\" code. There's no real right way but it is mainly trying to understand things you don't quite understand and then working your way backwards.\n",
    "\n",
    "### Things I've Learned so far in the book\n",
    "<hr>\n",
    " * How to use the inspector to find errors in js. it works like that.\n",
    " * js arrays/data structures are kind of confusing. They seem almost inconsistent at times. I feel like there are so many brackets and I don't understand what the use is. things seem to work multiple ways and don't other times.\n",
    " * completing something and having code work feel like a huge breakthrough because of something doesn't show up when you have errors - nothing appears in the browser. so suddenly a picture of a graph shows up and badda bing badda boom - I'm a Data Science and Visualization Analysis Engineer (future title someday). \n",
    " * also that I need to skip some parts and also work on the beginning parts in my own way.\n",
    "\n",
    "Also I need to stop drinking soda. Ugh. \n",
    "\n",
    "The section I want to work on particularly is the first part and automating certain steps in data organization for the javascript graphs.\n",
    "\n",
    "the reason for this is because the author has some data they are using for the first few graphs but it's not even organized for the tutorial they have. so I'm going to organize it."
   ]
  },
  {
   "cell_type": "code",
   "execution_count": 1,
   "metadata": {},
   "outputs": [],
   "source": [
    "# the simplest javascript data structure I've seen looks something like a Python list, just like this.\n",
    "\n",
    "js_list = [\n",
    "    [1,'some data point'],\n",
    "    [2, 'another data point'],\n",
    "    [3, 'last data point I promise']\n",
    "]"
   ]
  },
  {
   "cell_type": "code",
   "execution_count": 5,
   "metadata": {},
   "outputs": [
    {
     "name": "stdout",
     "output_type": "stream",
     "text": [
      "[[1, 'some data point'], [2, 'another data point'], [3, 'last data point I promise']]\n"
     ]
    }
   ],
   "source": [
    "# next I want to see if I can add that list to a file as a string but save the file as a js file\n",
    "\n",
    "print(str(js_list))"
   ]
  },
  {
   "cell_type": "code",
   "execution_count": 13,
   "metadata": {},
   "outputs": [],
   "source": [
    "f = open(\"js_list_test.js\", \"w+\")"
   ]
  },
  {
   "cell_type": "code",
   "execution_count": 14,
   "metadata": {},
   "outputs": [
    {
     "name": "stdout",
     "output_type": "stream",
     "text": [
      "app.js          flotr2.min.js    linegraph        test.js\r\n",
      "bar_color.html  \u001b[0m\u001b[01;34mjs\u001b[0m/              move_this.ipynb  untitled.html\r\n",
      "barcolor.js     js_list_test.js  README.md\r\n"
     ]
    }
   ],
   "source": [
    "ls"
   ]
  },
  {
   "cell_type": "code",
   "execution_count": 15,
   "metadata": {},
   "outputs": [],
   "source": [
    "f.close()"
   ]
  },
  {
   "cell_type": "code",
   "execution_count": 17,
   "metadata": {},
   "outputs": [],
   "source": [
    "f = open(\"js_list_test.js\",\"a\")"
   ]
  },
  {
   "cell_type": "code",
   "execution_count": 18,
   "metadata": {},
   "outputs": [
    {
     "data": {
      "text/plain": [
       "25"
      ]
     },
     "execution_count": 18,
     "metadata": {},
     "output_type": "execute_result"
    }
   ],
   "source": [
    "f.write(\"\"\"console.log(\"test this\");\"\"\")"
   ]
  },
  {
   "cell_type": "code",
   "execution_count": 19,
   "metadata": {},
   "outputs": [],
   "source": [
    "cat js_list_test.js"
   ]
  },
  {
   "cell_type": "markdown",
   "metadata": {},
   "source": [
    "okay this is a little weirder than I thought. "
   ]
  },
  {
   "cell_type": "code",
   "execution_count": 27,
   "metadata": {},
   "outputs": [],
   "source": [
    "with open(\"test_js_list.js\", \"w\") as file:\n",
    "    file.write(\"\"\"alert(\"test this\");\"\"\".strip())"
   ]
  },
  {
   "cell_type": "code",
   "execution_count": 21,
   "metadata": {},
   "outputs": [
    {
     "name": "stdout",
     "output_type": "stream",
     "text": [
      "console.log(\"test this\")"
     ]
    }
   ],
   "source": [
    "cat test_js_list.js"
   ]
  },
  {
   "cell_type": "code",
   "execution_count": 31,
   "metadata": {},
   "outputs": [],
   "source": [
    "with open(\"test_js_list.html\", \"w+\") as html_file:\n",
    "    html_file.write(\"\"\"<html>\n",
    "    <title>some title here</title>\n",
    "    <script type=\"text/javascript\" src=\"./test_js_list.js\"></script>\n",
    "    </html>\"\"\".strip())"
   ]
  },
  {
   "cell_type": "code",
   "execution_count": 29,
   "metadata": {},
   "outputs": [
    {
     "name": "stdout",
     "output_type": "stream",
     "text": [
      "<html>\r\n",
      "    <title>some title here</title>\r\n",
      "    <script type=\"text/javascript\" src=\"./test_js_list.js\"</script>\r\n",
      "    </html>"
     ]
    }
   ],
   "source": [
    "cat test_js_list.html"
   ]
  },
  {
   "cell_type": "markdown",
   "metadata": {},
   "source": [
    "yooo that just worked.\n",
    "\n",
    "let's go.\n",
    "\n",
    "so now I want to see if I can get a list to show up in a js file and print it to console."
   ]
  },
  {
   "cell_type": "code",
   "execution_count": 36,
   "metadata": {},
   "outputs": [],
   "source": [
    "with open(\"test_js_list.js\", \"w\") as js_file:\n",
    "    js_file.write(\"js_list = \" + str(js_list) + \"\\nconsole.log(js_list);\")"
   ]
  },
  {
   "cell_type": "code",
   "execution_count": 37,
   "metadata": {},
   "outputs": [],
   "source": [
    "with open(\"test_js_list.html\", \"w+\") as html_file:\n",
    "    html_file.write(\"\"\"<html>\n",
    "    <title>some title here</title>\n",
    "    <script type=\"text/javascript\" src=\"./test_js_list.js\"></script>\n",
    "    </html>\"\"\".strip())"
   ]
  },
  {
   "cell_type": "markdown",
   "metadata": {},
   "source": [
    "holy crap this is actually working.\n",
    "\n",
    "this is **actually** working.\n",
    "\n"
   ]
  },
  {
   "cell_type": "code",
   "execution_count": 39,
   "metadata": {},
   "outputs": [],
   "source": [
    "import numpy as np"
   ]
  },
  {
   "cell_type": "code",
   "execution_count": 40,
   "metadata": {},
   "outputs": [
    {
     "name": "stdout",
     "output_type": "stream",
     "text": [
      "app.js               flotr2.min.js    move_this.ipynb    test_js_list.js\r\n",
      "bar_color.html       \u001b[0m\u001b[01;34mjs\u001b[0m/              README.md          untitled.html\r\n",
      "barcolor.js          js_list_test.js  test.js\r\n",
      "co2_annmean_mlo.txt  linegraph        test_js_list.html\r\n"
     ]
    }
   ],
   "source": [
    "ls"
   ]
  },
  {
   "cell_type": "code",
   "execution_count": 41,
   "metadata": {},
   "outputs": [],
   "source": [
    "co2_dataset = np.loadtxt('co2_annmean_mlo.txt')"
   ]
  },
  {
   "cell_type": "code",
   "execution_count": 49,
   "metadata": {},
   "outputs": [
    {
     "data": {
      "text/plain": [
       "'0.12'"
      ]
     },
     "execution_count": 49,
     "metadata": {},
     "output_type": "execute_result"
    }
   ],
   "source": [
    "np.format_float_positional(co2_dataset[0,2])\n",
    "\n",
    "# this actually works pretty nicely. the data set is in scientific notation"
   ]
  },
  {
   "cell_type": "code",
   "execution_count": 50,
   "metadata": {},
   "outputs": [
    {
     "data": {
      "text/plain": [
       "array([[1.9590e+03, 3.1597e+02, 1.2000e-01],\n",
       "       [1.9600e+03, 3.1691e+02, 1.2000e-01],\n",
       "       [1.9610e+03, 3.1764e+02, 1.2000e-01]])"
      ]
     },
     "execution_count": 50,
     "metadata": {},
     "output_type": "execute_result"
    }
   ],
   "source": [
    "co2_dataset[0:3,:]"
   ]
  },
  {
   "cell_type": "code",
   "execution_count": 57,
   "metadata": {},
   "outputs": [],
   "source": [
    "# so I want to see if I can convert it but first I don't need the last column\n",
    "\n",
    "cut_co2_dataset = co2_dataset[:,:2]\n",
    "\n",
    "# this slices off far column"
   ]
  },
  {
   "cell_type": "code",
   "execution_count": 58,
   "metadata": {},
   "outputs": [
    {
     "data": {
      "text/plain": [
       "60"
      ]
     },
     "execution_count": 58,
     "metadata": {},
     "output_type": "execute_result"
    }
   ],
   "source": [
    "len(cut_co2_dataset)"
   ]
  },
  {
   "cell_type": "code",
   "execution_count": 59,
   "metadata": {},
   "outputs": [
    {
     "data": {
      "text/plain": [
       "315.97"
      ]
     },
     "execution_count": 59,
     "metadata": {},
     "output_type": "execute_result"
    }
   ],
   "source": [
    "cut_co2_dataset[0,1]"
   ]
  },
  {
   "cell_type": "code",
   "execution_count": 60,
   "metadata": {},
   "outputs": [
    {
     "data": {
      "text/plain": [
       "1959.0"
      ]
     },
     "execution_count": 60,
     "metadata": {},
     "output_type": "execute_result"
    }
   ],
   "source": [
    "cut_co2_dataset[0,0]"
   ]
  },
  {
   "cell_type": "code",
   "execution_count": 63,
   "metadata": {},
   "outputs": [
    {
     "data": {
      "text/plain": [
       "array([[1959.  ,  315.97],\n",
       "       [1960.  ,  316.91],\n",
       "       [1961.  ,  317.64],\n",
       "       [1962.  ,  318.45],\n",
       "       [1963.  ,  318.99],\n",
       "       [1964.  ,  319.62],\n",
       "       [1965.  ,  320.04],\n",
       "       [1966.  ,  321.38],\n",
       "       [1967.  ,  322.16],\n",
       "       [1968.  ,  323.04]])"
      ]
     },
     "execution_count": 63,
     "metadata": {},
     "output_type": "execute_result"
    }
   ],
   "source": [
    "cut_co2_dataset[0:10,:] #some how it changed to a nice version of everything. not sure why."
   ]
  },
  {
   "cell_type": "markdown",
   "metadata": {},
   "source": [
    "odd I don't remember doing that, I was just trying to figure out how to change it but whatevs?"
   ]
  },
  {
   "cell_type": "code",
   "execution_count": 66,
   "metadata": {},
   "outputs": [
    {
     "data": {
      "text/plain": [
       "[[1959.0, 315.97],\n",
       " [1960.0, 316.91],\n",
       " [1961.0, 317.64],\n",
       " [1962.0, 318.45],\n",
       " [1963.0, 318.99],\n",
       " [1964.0, 319.62],\n",
       " [1965.0, 320.04],\n",
       " [1966.0, 321.38],\n",
       " [1967.0, 322.16],\n",
       " [1968.0, 323.04]]"
      ]
     },
     "execution_count": 66,
     "metadata": {},
     "output_type": "execute_result"
    }
   ],
   "source": [
    "py_list_co2_data = cut_co2_dataset.tolist()\n",
    "py_list_co2_data[0:10][:]"
   ]
  },
  {
   "cell_type": "markdown",
   "metadata": {},
   "source": [
    "dang dude let's go."
   ]
  },
  {
   "cell_type": "code",
   "execution_count": 67,
   "metadata": {},
   "outputs": [],
   "source": [
    "with open(\"test_js_list.html\", \"w+\") as html_file:\n",
    "    html_file.write(\"\"\"<html>\n",
    "    <title>some title here</title>\n",
    "    <script type=\"text/javascript\" src=\"./linegraphData.js\"></script>\n",
    "    <script type=\"text/javascript\" src=\"./linegraph.js\"></script>\n",
    "    </html>\"\"\".strip())\n",
    "    \n",
    "with open(\"linegraphData.js\", \"w+\") as js_data_file:\n",
    "    js_data_file.write(\"linegraphData = \" + str(py_list_co2_data))\n",
    "    \n",
    "with open(\"linegraph.js\", \"w+\") as js_file:\n",
    "    js_file.write(\"console.log(linegraphData)\")"
   ]
  },
  {
   "cell_type": "markdown",
   "metadata": {},
   "source": [
    "alright so I have the basic build of automating the html file creation of this.\n",
    "\n",
    "```html\n",
    "<html>\n",
    "    <title>some title here</title>\n",
    "    <script type=\"text/javascript\" src=\"./linegraphData.js\"></script>\n",
    "    <script type=\"text/javascript\" src=\"./linegraph.js\"></script>\n",
    "    <script type=\"text/javascript\" src=\"./flotr2.min.js\"></script>\n",
    "    <div id=\"chart\" style=\"width:600px; height:300px\"></div>\n",
    "</html>\n",
    "```"
   ]
  },
  {
   "cell_type": "code",
   "execution_count": 78,
   "metadata": {},
   "outputs": [],
   "source": [
    "# which a function could maybe look like this\n",
    "\n",
    "def make_new_html_graph_file(name_of_html_file,name_of_js_file=None, name_of_data_file=None):\n",
    "    \"\"\"makes html file ready for rendering new graph that is loaded from js data file\"\"\"\n",
    "    \n",
    "    new_html_file_name = name_of_html_file + \".html\"\n",
    "    \n",
    "    with open(new_html_file_name, \"w+\") as html_file:\n",
    "        html_file.write(\"\"\"\n",
    "<html>\n",
    "    <title>some title here</title>\n",
    "    <script type=\"text/javascript\" src=\"./linegraphData.js\"></script>\n",
    "    <script type=\"text/javascript\" src=\"./linegraph.js\"></script>\n",
    "    <script type=\"text/javascript\" src=\"./flotr2.min.js\"></script>\n",
    "    <div id=\"chart\" style=\"width:600px; height:300px\"></div>\\n</html>\n",
    "        \"\"\")"
   ]
  },
  {
   "cell_type": "code",
   "execution_count": 79,
   "metadata": {},
   "outputs": [],
   "source": [
    "make_new_html_graph_file(\"fart\")"
   ]
  },
  {
   "cell_type": "code",
   "execution_count": 80,
   "metadata": {},
   "outputs": [
    {
     "name": "stdout",
     "output_type": "stream",
     "text": [
      "app.js               flotr2.min.js     linegraph.js       test_js_list.js\r\n",
      "bar_color.html       \u001b[0m\u001b[01;34mjs\u001b[0m/               move_this.ipynb    untitled.html\r\n",
      "barcolor.js          js_list_test.js   README.md\r\n",
      "co2_annmean_mlo.txt  linegraph         test.js\r\n",
      "fart.html            linegraphData.js  test_js_list.html\r\n"
     ]
    }
   ],
   "source": [
    "ls"
   ]
  },
  {
   "cell_type": "code",
   "execution_count": 81,
   "metadata": {},
   "outputs": [
    {
     "name": "stdout",
     "output_type": "stream",
     "text": [
      "\r\n",
      "<html>\r\n",
      "    <title>some title here</title>\r\n",
      "    <script type=\"text/javascript\" src=\"./linegraphData.js\"></script>\r\n",
      "    <script type=\"text/javascript\" src=\"./linegraph.js\"></script>\r\n",
      "    <script type=\"text/javascript\" src=\"./flotr2.min.js\"></script>\r\n",
      "    <div id=\"chart\" style=\"width:600px; height:300px\"></div>\r\n",
      "</html>\r\n",
      "        "
     ]
    }
   ],
   "source": [
    "cat fart.html"
   ]
  },
  {
   "cell_type": "code",
   "execution_count": null,
   "metadata": {},
   "outputs": [],
   "source": []
  }
 ],
 "metadata": {
  "kernelspec": {
   "display_name": "Python 3",
   "language": "python",
   "name": "python3"
  },
  "language_info": {
   "codemirror_mode": {
    "name": "ipython",
    "version": 3
   },
   "file_extension": ".py",
   "mimetype": "text/x-python",
   "name": "python",
   "nbconvert_exporter": "python",
   "pygments_lexer": "ipython3",
   "version": "3.7.3"
  }
 },
 "nbformat": 4,
 "nbformat_minor": 2
}
