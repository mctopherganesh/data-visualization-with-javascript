{
 "cells": [
  {
   "cell_type": "markdown",
   "metadata": {},
   "source": [
    "<!---dang i feel like rapping right now.\n",
    "\n",
    "do you ever feel like that?-->\n",
    "\n",
    "I feel like writing so many things but I want to talk about this first.\n",
    "\n",
    "I have so many resources stock piled in just my twitter messages to myself alone that there is something there.\n",
    "\n",
    "So I read something kind of reassuring the other day. It said if you don't really know what to build, just copy stuff.\n",
    "\n",
    "That sounds like pretty good advice and also a great argument against building my own things.\n",
    "\n",
    "I guess one tends to mess around with what one is familiar with or comfortable doing.\n",
    "\n",
    "Sometimes exploring into the unknown can be a little scary."
   ]
  },
  {
   "cell_type": "markdown",
   "metadata": {},
   "source": [
    "Tonight I worked on some really cool things and had some pretty cool ideas.\n",
    "\n",
    "I kept working through this Data Vis with JS book I have and I'm starting to learn something along with a little JS.\n",
    "\n",
    "JS is super confusing. but not hard to figure out. I'm finding bugs slowly (after putting them in there)\n",
    "\n",
    "However, I probably shouldn't follow this book linearly. That is, in order.\n",
    "\n",
    "I think that might be a huge problem with people trying to \"understand\" how to \"understand\" code. There's no real right way but it is mainly trying to understand things you don't quite understand and then working your way backwards.\n",
    "\n",
    "### Things I've Learned so far in the book\n",
    "<hr>\n",
    "\n",
    "- How to use the inspector to find errors in js. it works like that.\n",
    "- js arrays/data structures are kind of confusing. They seem almost inconsistent at times. I feel like there are so many brackets and I don't understand what the use is. things seem to work multiple ways and don't other times.\n",
    "- completing something and having code work feel like a huge breakthrough because of something doesn't show up when you have errors - nothing appears in the browser. so suddenly a picture of a graph shows up and badda bing badda boom - I'm a Data Science and Visualization Analysis Engineer (future title someday). \n",
    "- also that I need to skip some parts and also work on the beginning parts in my own way.\n",
    "\n",
    "Also I need to stop drinking soda. Ugh. \n",
    "\n",
    "The section I want to work on particularly is the first part and automating certain steps in data organization for the javascript graphs.\n",
    "\n",
    "the reason for this is because the author has some data they are using for the first few graphs but it's not even organized for the tutorial they have. so I'm going to organize it."
   ]
  },
  {
   "cell_type": "code",
   "execution_count": 1,
   "metadata": {},
   "outputs": [],
   "source": [
    "# the simplest javascript data structure I've seen looks something like a Python list, just like this.\n",
    "\n",
    "js_list = [\n",
    "    [1,'some data point'],\n",
    "    [2, 'another data point'],\n",
    "    [3, 'last data point I promise']\n",
    "]"
   ]
  },
  {
   "cell_type": "code",
   "execution_count": 5,
   "metadata": {},
   "outputs": [
    {
     "name": "stdout",
     "output_type": "stream",
     "text": [
      "[[1, 'some data point'], [2, 'another data point'], [3, 'last data point I promise']]\n"
     ]
    }
   ],
   "source": [
    "# next I want to see if I can add that list to a file as a string but save the file as a js file\n",
    "\n",
    "print(str(js_list))"
   ]
  },
  {
   "cell_type": "code",
   "execution_count": 13,
   "metadata": {},
   "outputs": [],
   "source": [
    "f = open(\"js_list_test.js\", \"w+\")"
   ]
  },
  {
   "cell_type": "code",
   "execution_count": 14,
   "metadata": {},
   "outputs": [
    {
     "name": "stdout",
     "output_type": "stream",
     "text": [
      "app.js          flotr2.min.js    linegraph        test.js\r\n",
      "bar_color.html  \u001b[0m\u001b[01;34mjs\u001b[0m/              move_this.ipynb  untitled.html\r\n",
      "barcolor.js     js_list_test.js  README.md\r\n"
     ]
    }
   ],
   "source": [
    "ls"
   ]
  },
  {
   "cell_type": "code",
   "execution_count": 15,
   "metadata": {},
   "outputs": [],
   "source": [
    "f.close()"
   ]
  },
  {
   "cell_type": "code",
   "execution_count": 17,
   "metadata": {},
   "outputs": [],
   "source": [
    "f = open(\"js_list_test.js\",\"a\")"
   ]
  },
  {
   "cell_type": "code",
   "execution_count": 18,
   "metadata": {},
   "outputs": [
    {
     "data": {
      "text/plain": [
       "25"
      ]
     },
     "execution_count": 18,
     "metadata": {},
     "output_type": "execute_result"
    }
   ],
   "source": [
    "f.write(\"\"\"console.log(\"test this\");\"\"\")"
   ]
  },
  {
   "cell_type": "code",
   "execution_count": 19,
   "metadata": {},
   "outputs": [],
   "source": [
    "cat js_list_test.js"
   ]
  },
  {
   "cell_type": "markdown",
   "metadata": {},
   "source": [
    "okay this is a little weirder than I thought. "
   ]
  },
  {
   "cell_type": "code",
   "execution_count": 27,
   "metadata": {},
   "outputs": [],
   "source": [
    "with open(\"test_js_list.js\", \"w\") as file:\n",
    "    file.write(\"\"\"alert(\"test this\");\"\"\".strip())"
   ]
  },
  {
   "cell_type": "code",
   "execution_count": 21,
   "metadata": {},
   "outputs": [
    {
     "name": "stdout",
     "output_type": "stream",
     "text": [
      "console.log(\"test this\")"
     ]
    }
   ],
   "source": [
    "cat test_js_list.js"
   ]
  },
  {
   "cell_type": "code",
   "execution_count": 31,
   "metadata": {},
   "outputs": [],
   "source": [
    "with open(\"test_js_list.html\", \"w+\") as html_file:\n",
    "    html_file.write(\"\"\"<html>\n",
    "    <title>some title here</title>\n",
    "    <script type=\"text/javascript\" src=\"./test_js_list.js\"></script>\n",
    "    </html>\"\"\".strip())"
   ]
  },
  {
   "cell_type": "code",
   "execution_count": 29,
   "metadata": {},
   "outputs": [
    {
     "name": "stdout",
     "output_type": "stream",
     "text": [
      "<html>\r\n",
      "    <title>some title here</title>\r\n",
      "    <script type=\"text/javascript\" src=\"./test_js_list.js\"</script>\r\n",
      "    </html>"
     ]
    }
   ],
   "source": [
    "cat test_js_list.html"
   ]
  },
  {
   "cell_type": "markdown",
   "metadata": {},
   "source": [
    "yooo that just worked.\n",
    "\n",
    "let's go.\n",
    "\n",
    "so now I want to see if I can get a list to show up in a js file and print it to console."
   ]
  },
  {
   "cell_type": "code",
   "execution_count": 36,
   "metadata": {},
   "outputs": [],
   "source": [
    "with open(\"test_js_list.js\", \"w\") as js_file:\n",
    "    js_file.write(\"js_list = \" + str(js_list) + \"\\nconsole.log(js_list);\")"
   ]
  },
  {
   "cell_type": "code",
   "execution_count": 37,
   "metadata": {},
   "outputs": [],
   "source": [
    "with open(\"test_js_list.html\", \"w+\") as html_file:\n",
    "    html_file.write(\"\"\"<html>\n",
    "    <title>some title here</title>\n",
    "    <script type=\"text/javascript\" src=\"./test_js_list.js\"></script>\n",
    "    </html>\"\"\".strip())"
   ]
  },
  {
   "cell_type": "markdown",
   "metadata": {},
   "source": [
    "holy crap this is actually working.\n",
    "\n",
    "this is **actually** working.\n",
    "\n"
   ]
  },
  {
   "cell_type": "code",
   "execution_count": 1,
   "metadata": {},
   "outputs": [],
   "source": [
    "import numpy as np"
   ]
  },
  {
   "cell_type": "code",
   "execution_count": 9,
   "metadata": {},
   "outputs": [],
   "source": [
    "co2_dataset = np.loadtxt('co2_annmean_mlo.txt', dtype=\"float\")"
   ]
  },
  {
   "cell_type": "code",
   "execution_count": 10,
   "metadata": {
    "scrolled": true
   },
   "outputs": [
    {
     "data": {
      "text/plain": [
       "array([[1.9590e+03, 3.1597e+02, 1.2000e-01],\n",
       "       [1.9600e+03, 3.1691e+02, 1.2000e-01],\n",
       "       [1.9610e+03, 3.1764e+02, 1.2000e-01],\n",
       "       [1.9620e+03, 3.1845e+02, 1.2000e-01],\n",
       "       [1.9630e+03, 3.1899e+02, 1.2000e-01],\n",
       "       [1.9640e+03, 3.1962e+02, 1.2000e-01],\n",
       "       [1.9650e+03, 3.2004e+02, 1.2000e-01],\n",
       "       [1.9660e+03, 3.2138e+02, 1.2000e-01],\n",
       "       [1.9670e+03, 3.2216e+02, 1.2000e-01],\n",
       "       [1.9680e+03, 3.2304e+02, 1.2000e-01],\n",
       "       [1.9690e+03, 3.2462e+02, 1.2000e-01],\n",
       "       [1.9700e+03, 3.2568e+02, 1.2000e-01],\n",
       "       [1.9710e+03, 3.2632e+02, 1.2000e-01],\n",
       "       [1.9720e+03, 3.2745e+02, 1.2000e-01],\n",
       "       [1.9730e+03, 3.2968e+02, 1.2000e-01],\n",
       "       [1.9740e+03, 3.3018e+02, 1.2000e-01],\n",
       "       [1.9750e+03, 3.3111e+02, 1.2000e-01],\n",
       "       [1.9760e+03, 3.3204e+02, 1.2000e-01],\n",
       "       [1.9770e+03, 3.3383e+02, 1.2000e-01],\n",
       "       [1.9780e+03, 3.3540e+02, 1.2000e-01],\n",
       "       [1.9790e+03, 3.3684e+02, 1.2000e-01],\n",
       "       [1.9800e+03, 3.3875e+02, 1.2000e-01],\n",
       "       [1.9810e+03, 3.4011e+02, 1.2000e-01],\n",
       "       [1.9820e+03, 3.4145e+02, 1.2000e-01],\n",
       "       [1.9830e+03, 3.4305e+02, 1.2000e-01],\n",
       "       [1.9840e+03, 3.4465e+02, 1.2000e-01],\n",
       "       [1.9850e+03, 3.4612e+02, 1.2000e-01],\n",
       "       [1.9860e+03, 3.4742e+02, 1.2000e-01],\n",
       "       [1.9870e+03, 3.4919e+02, 1.2000e-01],\n",
       "       [1.9880e+03, 3.5157e+02, 1.2000e-01],\n",
       "       [1.9890e+03, 3.5312e+02, 1.2000e-01],\n",
       "       [1.9900e+03, 3.5439e+02, 1.2000e-01],\n",
       "       [1.9910e+03, 3.5561e+02, 1.2000e-01],\n",
       "       [1.9920e+03, 3.5645e+02, 1.2000e-01],\n",
       "       [1.9930e+03, 3.5710e+02, 1.2000e-01],\n",
       "       [1.9940e+03, 3.5883e+02, 1.2000e-01],\n",
       "       [1.9950e+03, 3.6082e+02, 1.2000e-01],\n",
       "       [1.9960e+03, 3.6261e+02, 1.2000e-01],\n",
       "       [1.9970e+03, 3.6373e+02, 1.2000e-01],\n",
       "       [1.9980e+03, 3.6670e+02, 1.2000e-01],\n",
       "       [1.9990e+03, 3.6838e+02, 1.2000e-01],\n",
       "       [2.0000e+03, 3.6955e+02, 1.2000e-01],\n",
       "       [2.0010e+03, 3.7114e+02, 1.2000e-01],\n",
       "       [2.0020e+03, 3.7328e+02, 1.2000e-01],\n",
       "       [2.0030e+03, 3.7580e+02, 1.2000e-01],\n",
       "       [2.0040e+03, 3.7752e+02, 1.2000e-01],\n",
       "       [2.0050e+03, 3.7980e+02, 1.2000e-01],\n",
       "       [2.0060e+03, 3.8190e+02, 1.2000e-01],\n",
       "       [2.0070e+03, 3.8379e+02, 1.2000e-01],\n",
       "       [2.0080e+03, 3.8560e+02, 1.2000e-01],\n",
       "       [2.0090e+03, 3.8743e+02, 1.2000e-01],\n",
       "       [2.0100e+03, 3.8990e+02, 1.2000e-01],\n",
       "       [2.0110e+03, 3.9165e+02, 1.2000e-01],\n",
       "       [2.0120e+03, 3.9385e+02, 1.2000e-01],\n",
       "       [2.0130e+03, 3.9652e+02, 1.2000e-01],\n",
       "       [2.0140e+03, 3.9865e+02, 1.2000e-01],\n",
       "       [2.0150e+03, 4.0083e+02, 1.2000e-01],\n",
       "       [2.0160e+03, 4.0424e+02, 1.2000e-01],\n",
       "       [2.0170e+03, 4.0655e+02, 1.2000e-01],\n",
       "       [2.0180e+03, 4.0852e+02, 1.2000e-01]])"
      ]
     },
     "execution_count": 10,
     "metadata": {},
     "output_type": "execute_result"
    }
   ],
   "source": [
    "co2_dataset"
   ]
  },
  {
   "cell_type": "code",
   "execution_count": 11,
   "metadata": {},
   "outputs": [
    {
     "ename": "TypeError",
     "evalue": "only size-1 arrays can be converted to Python scalars",
     "output_type": "error",
     "traceback": [
      "\u001b[0;31m---------------------------------------------------------------------------\u001b[0m",
      "\u001b[0;31mTypeError\u001b[0m                                 Traceback (most recent call last)",
      "\u001b[0;32m<ipython-input-11-770352789099>\u001b[0m in \u001b[0;36m<module>\u001b[0;34m\u001b[0m\n\u001b[0;32m----> 1\u001b[0;31m \u001b[0mno_floats_dataset\u001b[0m \u001b[0;34m=\u001b[0m \u001b[0mnp\u001b[0m\u001b[0;34m.\u001b[0m\u001b[0mformat_float_positional\u001b[0m\u001b[0;34m(\u001b[0m\u001b[0mco2_dataset\u001b[0m\u001b[0;34m[\u001b[0m\u001b[0;34m:\u001b[0m\u001b[0;34m,\u001b[0m\u001b[0;34m:\u001b[0m\u001b[0;34m]\u001b[0m\u001b[0;34m)\u001b[0m\u001b[0;34m\u001b[0m\u001b[0;34m\u001b[0m\u001b[0m\n\u001b[0m\u001b[1;32m      2\u001b[0m \u001b[0;34m\u001b[0m\u001b[0m\n\u001b[1;32m      3\u001b[0m \u001b[0;31m# this actually works pretty nicely. the data set is in scientific notation\u001b[0m\u001b[0;34m\u001b[0m\u001b[0;34m\u001b[0m\u001b[0;34m\u001b[0m\u001b[0m\n",
      "\u001b[0;32m~/anaconda3/lib/python3.7/site-packages/numpy/core/arrayprint.py\u001b[0m in \u001b[0;36mformat_float_positional\u001b[0;34m(x, precision, unique, fractional, trim, sign, pad_left, pad_right)\u001b[0m\n\u001b[1;32m   1130\u001b[0m                               \u001b[0mfractional\u001b[0m\u001b[0;34m=\u001b[0m\u001b[0mfractional\u001b[0m\u001b[0;34m,\u001b[0m \u001b[0mtrim\u001b[0m\u001b[0;34m=\u001b[0m\u001b[0mtrim\u001b[0m\u001b[0;34m,\u001b[0m\u001b[0;34m\u001b[0m\u001b[0;34m\u001b[0m\u001b[0m\n\u001b[1;32m   1131\u001b[0m                               \u001b[0msign\u001b[0m\u001b[0;34m=\u001b[0m\u001b[0msign\u001b[0m\u001b[0;34m,\u001b[0m \u001b[0mpad_left\u001b[0m\u001b[0;34m=\u001b[0m\u001b[0mpad_left\u001b[0m\u001b[0;34m,\u001b[0m\u001b[0;34m\u001b[0m\u001b[0;34m\u001b[0m\u001b[0m\n\u001b[0;32m-> 1132\u001b[0;31m                               pad_right=pad_right)\n\u001b[0m\u001b[1;32m   1133\u001b[0m \u001b[0;34m\u001b[0m\u001b[0m\n\u001b[1;32m   1134\u001b[0m \u001b[0;34m\u001b[0m\u001b[0m\n",
      "\u001b[0;31mTypeError\u001b[0m: only size-1 arrays can be converted to Python scalars"
     ]
    }
   ],
   "source": [
    "no_floats_dataset = np.format_float_positional(co2_dataset[:,:])\n",
    "\n",
    "# this actually works pretty nicely. the data set is in scientific notation"
   ]
  },
  {
   "cell_type": "markdown",
   "metadata": {},
   "source": [
    "So all the above stuff didn't do anything as you can see but some how the data is printed out nicer below. I still can't figure out how this worked. \n",
    "\n",
    "\n",
    "But I'm cool with it."
   ]
  },
  {
   "cell_type": "code",
   "execution_count": 18,
   "metadata": {},
   "outputs": [
    {
     "data": {
      "text/plain": [
       "array([[1.9590e+03, 3.1597e+02, 1.2000e-01],\n",
       "       [1.9600e+03, 3.1691e+02, 1.2000e-01],\n",
       "       [1.9610e+03, 3.1764e+02, 1.2000e-01]])"
      ]
     },
     "execution_count": 18,
     "metadata": {},
     "output_type": "execute_result"
    }
   ],
   "source": [
    "co2_dataset[0:3,:]"
   ]
  },
  {
   "cell_type": "code",
   "execution_count": 13,
   "metadata": {},
   "outputs": [],
   "source": [
    "# so I want to see if I can convert it but first I don't need the last column\n",
    "\n",
    "cut_co2_dataset = co2_dataset[:,:2]\n",
    "\n",
    "# this slices off far column"
   ]
  },
  {
   "cell_type": "code",
   "execution_count": 20,
   "metadata": {},
   "outputs": [
    {
     "data": {
      "text/plain": [
       "(60, 2)"
      ]
     },
     "execution_count": 20,
     "metadata": {},
     "output_type": "execute_result"
    }
   ],
   "source": [
    "cut_co2_dataset.shape # testing shape of array after column slicerooni"
   ]
  },
  {
   "cell_type": "code",
   "execution_count": 15,
   "metadata": {},
   "outputs": [
    {
     "data": {
      "text/plain": [
       "315.97"
      ]
     },
     "execution_count": 15,
     "metadata": {},
     "output_type": "execute_result"
    }
   ],
   "source": [
    "cut_co2_dataset[0,1] # taking samples for good measure"
   ]
  },
  {
   "cell_type": "code",
   "execution_count": 16,
   "metadata": {},
   "outputs": [
    {
     "data": {
      "text/plain": [
       "1959.0"
      ]
     },
     "execution_count": 16,
     "metadata": {},
     "output_type": "execute_result"
    }
   ],
   "source": [
    "cut_co2_dataset[0,0] # another sample, here here"
   ]
  },
  {
   "cell_type": "code",
   "execution_count": 17,
   "metadata": {},
   "outputs": [
    {
     "data": {
      "text/plain": [
       "array([[1959.  ,  315.97],\n",
       "       [1960.  ,  316.91],\n",
       "       [1961.  ,  317.64],\n",
       "       [1962.  ,  318.45],\n",
       "       [1963.  ,  318.99],\n",
       "       [1964.  ,  319.62],\n",
       "       [1965.  ,  320.04],\n",
       "       [1966.  ,  321.38],\n",
       "       [1967.  ,  322.16],\n",
       "       [1968.  ,  323.04]])"
      ]
     },
     "execution_count": 17,
     "metadata": {},
     "output_type": "execute_result"
    }
   ],
   "source": [
    "cut_co2_dataset[0:10,:] # not sure why it's not displaying in non scientific notation now."
   ]
  },
  {
   "cell_type": "markdown",
   "metadata": {},
   "source": [
    "Alright so now I will convert the array to a python list with a super lazy but awesome method `.tolist()`. Thanks numpy creators."
   ]
  },
  {
   "cell_type": "code",
   "execution_count": 21,
   "metadata": {},
   "outputs": [
    {
     "data": {
      "text/plain": [
       "[[1959.0, 315.97],\n",
       " [1960.0, 316.91],\n",
       " [1961.0, 317.64],\n",
       " [1962.0, 318.45],\n",
       " [1963.0, 318.99],\n",
       " [1964.0, 319.62],\n",
       " [1965.0, 320.04],\n",
       " [1966.0, 321.38],\n",
       " [1967.0, 322.16],\n",
       " [1968.0, 323.04]]"
      ]
     },
     "execution_count": 21,
     "metadata": {},
     "output_type": "execute_result"
    }
   ],
   "source": [
    "py_list_co2_data = cut_co2_dataset.tolist()\n",
    "py_list_co2_data[0:10][:]"
   ]
  },
  {
   "cell_type": "markdown",
   "metadata": {},
   "source": [
    "Going to try to write to files now."
   ]
  },
  {
   "cell_type": "code",
   "execution_count": 22,
   "metadata": {},
   "outputs": [],
   "source": [
    "with open(\"linegraph.html\", \"w+\") as html_file:\n",
    "    html_file.write(\"\"\"<html>\n",
    "    <title>some title here</title>\n",
    "    <script type=\"text/javascript\" src=\"./linegraphData.js\"></script>\n",
    "    <script type=\"text/javascript\" src=\"./linegraph.js\"></script>\n",
    "    </html>\"\"\".strip())\n",
    "    \n",
    "with open(\"linegraphData.js\", \"w+\") as js_data_file:\n",
    "    js_data_file.write(\"linegraphData = \" + str(py_list_co2_data))\n",
    "    \n",
    "with open(\"linegraph.js\", \"w+\") as js_file:\n",
    "    js_file.write(\"console.log(linegraphData)\")"
   ]
  },
  {
   "cell_type": "markdown",
   "metadata": {},
   "source": [
    "# future changes for above script\n",
    "\n",
    "- add the word \"var\" in front of array name\n",
    "- add the script that imports pertinent js library (example: `<script type=\"text/javascript\" src=\"./js/flotr2.min.js\"></script>`)\n",
    "- add semi colon to end of array\n",
    "- don't forget to add the container to the html file.\n",
    "- make sure to read all of the code."
   ]
  },
  {
   "cell_type": "markdown",
   "metadata": {},
   "source": [
    "Good thing to review your code once in awhile. (once in a while being the operative phrase) Let's test that those statements above made files.."
   ]
  },
  {
   "cell_type": "code",
   "execution_count": 25,
   "metadata": {},
   "outputs": [
    {
     "name": "stdout",
     "output_type": "stream",
     "text": [
      "linegraphData.js  linegraph.html  linegraph.js\r\n"
     ]
    }
   ],
   "source": [
    "ls line*"
   ]
  },
  {
   "cell_type": "markdown",
   "metadata": {},
   "source": [
    "Yeah buddy. Lettttttsss gooooo. Putting a break in between this here markdown and the shtuff below for future reference. Also I'm going to write right here that everything below this line is the start of another project\n",
    "\n",
    "\n",
    "added from the **future** (oooooooooo): didn't realize that the below html would have actually just prevented all of the errors I just faced in making the graph work with the code that I used and wrote in the file from above.\n",
    "\n",
    "\n",
    "<hr>"
   ]
  },
  {
   "cell_type": "markdown",
   "metadata": {},
   "source": [
    "alright so I have the basic build of automating the html file creation of this.\n",
    "\n",
    "```html\n",
    "<html>\n",
    "    <title>some title here</title>\n",
    "    <script type=\"text/javascript\" src=\"./linegraphData.js\"></script>\n",
    "    <script type=\"text/javascript\" src=\"./linegraph.js\"></script>\n",
    "    <script type=\"text/javascript\" src=\"./flotr2.min.js\"></script>\n",
    "    <div id=\"chart\" style=\"width:600px; height:300px\"></div>\n",
    "</html>\n",
    "```"
   ]
  },
  {
   "cell_type": "code",
   "execution_count": 78,
   "metadata": {},
   "outputs": [],
   "source": [
    "# which a function could maybe look like this\n",
    "\n",
    "def make_new_html_graph_file(name_of_html_file,name_of_js_file=None, name_of_data_file=None):\n",
    "    \"\"\"makes html file ready for rendering new graph that is loaded from js data file\"\"\"\n",
    "    \n",
    "    new_html_file_name = name_of_html_file + \".html\"\n",
    "    \n",
    "    with open(new_html_file_name, \"w+\") as html_file:\n",
    "        html_file.write(\"\"\"\n",
    "<html>\n",
    "    <title>some title here</title>\n",
    "    <script type=\"text/javascript\" src=\"./linegraphData.js\"></script>\n",
    "    <script type=\"text/javascript\" src=\"./linegraph.js\"></script>\n",
    "    <script type=\"text/javascript\" src=\"./flotr2.min.js\"></script>\n",
    "    <div id=\"chart\" style=\"width:600px; height:300px\"></div>\\n</html>\n",
    "        \"\"\")"
   ]
  },
  {
   "cell_type": "code",
   "execution_count": 79,
   "metadata": {},
   "outputs": [],
   "source": [
    "make_new_html_graph_file(\"fart\")"
   ]
  },
  {
   "cell_type": "code",
   "execution_count": 80,
   "metadata": {},
   "outputs": [
    {
     "name": "stdout",
     "output_type": "stream",
     "text": [
      "app.js               flotr2.min.js     linegraph.js       test_js_list.js\r\n",
      "bar_color.html       \u001b[0m\u001b[01;34mjs\u001b[0m/               move_this.ipynb    untitled.html\r\n",
      "barcolor.js          js_list_test.js   README.md\r\n",
      "co2_annmean_mlo.txt  linegraph         test.js\r\n",
      "fart.html            linegraphData.js  test_js_list.html\r\n"
     ]
    }
   ],
   "source": [
    "ls"
   ]
  },
  {
   "cell_type": "code",
   "execution_count": 81,
   "metadata": {},
   "outputs": [
    {
     "name": "stdout",
     "output_type": "stream",
     "text": [
      "\r\n",
      "<html>\r\n",
      "    <title>some title here</title>\r\n",
      "    <script type=\"text/javascript\" src=\"./linegraphData.js\"></script>\r\n",
      "    <script type=\"text/javascript\" src=\"./linegraph.js\"></script>\r\n",
      "    <script type=\"text/javascript\" src=\"./flotr2.min.js\"></script>\r\n",
      "    <div id=\"chart\" style=\"width:600px; height:300px\"></div>\r\n",
      "</html>\r\n",
      "        "
     ]
    }
   ],
   "source": [
    "cat fart.html"
   ]
  },
  {
   "cell_type": "markdown",
   "metadata": {},
   "source": [
    "was this all just to write \"cat fart\" in this blog post? \n",
    "\n",
    "\n",
    "why yes. Yes it was."
   ]
  }
 ],
 "metadata": {
  "kernelspec": {
   "display_name": "Python 3",
   "language": "python",
   "name": "python3"
  },
  "language_info": {
   "codemirror_mode": {
    "name": "ipython",
    "version": 3
   },
   "file_extension": ".py",
   "mimetype": "text/x-python",
   "name": "python",
   "nbconvert_exporter": "python",
   "pygments_lexer": "ipython3",
   "version": "3.7.3"
  }
 },
 "nbformat": 4,
 "nbformat_minor": 2
}
